{
 "cells": [
  {
   "cell_type": "code",
   "execution_count": 25,
   "id": "21f9ca3f",
   "metadata": {},
   "outputs": [
    {
     "name": "stdout",
     "output_type": "stream",
     "text": [
      "JSON 파일이 생성되었습니다. 경로: output_json_file.json\n"
     ]
    }
   ],
   "source": [
    "import json\n",
    "\n",
    "# 입력 파일 경로를 적절히 변경하세요\n",
    "input_file_path = 'AIDS'\n",
    "output_json_path = 'output_json_file.json'\n",
    "\n",
    "# 결과를 저장할 리스트\n",
    "result_list = []\n",
    "\n",
    "# 파일을 읽기 모드로 엽니다\n",
    "with open(input_file_path, 'r') as file:\n",
    "    # 파일의 각 라인을 읽어오기\n",
    "    lines = file.readlines()\n",
    "\n",
    "    # 현재 처리 중인 부분의 시작 인덱스 초기화\n",
    "    start_index = None\n",
    "    edge_list = []\n",
    "    count_v = 0\n",
    "    count_e = 0\n",
    "    v_second_numbers_list = []  # 추가된 부분\n",
    "\n",
    "    # 각 라인에 대해 처리\n",
    "    for i, line in enumerate(lines):\n",
    "        if 't' in line:\n",
    "            # 이전 't'가 등장한 부분이 있었다면\n",
    "            if start_index is not None:\n",
    "                end_index = i\n",
    "\n",
    "                # 'e'와 'v'의 개수 세기\n",
    "                count_v = sum(1 for j in range(start_index, end_index) if 'v' in lines[j])\n",
    "                count_e = sum(1 for j in range(start_index, end_index) if 'e' in lines[j])\n",
    "\n",
    "                # 'v'의 두 번째 숫자를 리스트로 만들어서 추가\n",
    "                v_second_numbers = [int(lines[j].split()[2]) for j in range(start_index, end_index) if 'v' in lines[j]]\n",
    "                v_second_numbers_list.extend(v_second_numbers)\n",
    "\n",
    "                # 'e' 다음에 나오는 두 숫자를 리스트로 만들어서 추가\n",
    "                for j in range(start_index, end_index):\n",
    "                    if 'e' in lines[j]:\n",
    "                        edge_data = [int(x) for x in lines[j].split()[1:3]]\n",
    "                        edge_list.append(edge_data)\n",
    "\n",
    "                # 결과 리스트에 추가\n",
    "                result_list.append({'g_num': len(result_list), 'n': count_v, 'm': count_e, 'labels': v_second_numbers_list, 'graphs': edge_list})\n",
    "\n",
    "            # 현재 't'가 등장한 부분의 시작 인덱스 갱신\n",
    "            start_index = i\n",
    "            edge_list = []\n",
    "            count_v = 0\n",
    "            count_e = 0\n",
    "            v_second_numbers_list = []  # 추가된 부분\n",
    "\n",
    "    # 마지막 't' 이후의 부분에 대한 처리\n",
    "    if start_index is not None:\n",
    "        end_index = len(lines)\n",
    "\n",
    "        # 'e'와 'v'의 개수 세기\n",
    "        count_v = sum(1 for j in range(start_index, end_index) if 'v' in lines[j])\n",
    "        count_e = sum(1 for j in range(start_index, end_index) if 'e' in lines[j])\n",
    "\n",
    "        # 'v'의 두 번째 숫자를 리스트로 만들어서 추가\n",
    "        v_second_numbers = [int(lines[j].split()[2]) for j in range(start_index, end_index) if 'v' in lines[j]]\n",
    "        v_second_numbers_list.extend(v_second_numbers)\n",
    "\n",
    "        # 'e' 다음에 나오는 두 숫자를 리스트로 만들어서 추가\n",
    "        for j in range(start_index, end_index):\n",
    "            if 'e' in lines[j]:\n",
    "                edge_data = [int(x) for x in lines[j].split()[1:3]]\n",
    "                edge_list.append(edge_data)\n",
    "\n",
    "        # 결과 리스트에 추가\n",
    "        result_list.append({'g_num': len(result_list), 'n': count_v, 'm': count_e, 'labels': v_second_numbers_list, 'graphs': edge_list})\n",
    "\n",
    "# JSON 파일로 저장\n",
    "with open(output_json_path, 'w') as json_file:\n",
    "    json.dump(result_list, json_file, indent=2)\n",
    "\n",
    "print(f\"JSON 파일이 생성되었습니다. 경로: {output_json_path}\")\n"
   ]
  },
  {
   "cell_type": "code",
   "execution_count": 14,
   "id": "891ce634",
   "metadata": {},
   "outputs": [
    {
     "name": "stdout",
     "output_type": "stream",
     "text": [
      "유니크한 두 번째 숫자의 개수: 68\n"
     ]
    }
   ],
   "source": [
    "# 입력 파일 경로를 적절히 변경하세요\n",
    "input_file_path = 'AIDS'\n",
    "\n",
    "# 결과를 저장할 집합(set)\n",
    "unique_numbers = set()\n",
    "\n",
    "# 파일을 읽기 모드로 엽니다\n",
    "with open(input_file_path, 'r') as file:\n",
    "    # 파일의 각 라인을 읽어오기\n",
    "    lines = file.readlines()\n",
    "\n",
    "    # 각 라인에 대해 처리\n",
    "    for line in lines:\n",
    "        if line.startswith('v'):\n",
    "            # 'v' 다음에 나오는 두 번째 숫자 추출\n",
    "            second_number = int(line.split()[2])\n",
    "            # 집합에 추가\n",
    "            unique_numbers.add(second_number)\n",
    "\n",
    "# 유니크한 개수 출력\n",
    "unique_count = len(unique_numbers)\n",
    "print(f\"유니크한 두 번째 숫자의 개수: {unique_count}\")"
   ]
  },
  {
   "cell_type": "code",
   "execution_count": 23,
   "id": "7a26e9d3",
   "metadata": {},
   "outputs": [
    {
     "name": "stdout",
     "output_type": "stream",
     "text": [
      "결과가 저장된 JSON 파일: output_result.json\n"
     ]
    }
   ],
   "source": [
    "import json\n",
    "\n",
    "input_json_file_path = 'ged.json'  # ged.json 파일 경로를 지정하세요\n",
    "output_result_file_path = 'output_result.json'  # 결과를 저장할 JSON 파일 경로를 지정하세요\n",
    "\n",
    "# ged.json 파일 열기\n",
    "with open(input_json_file_path, 'r') as json_file:\n",
    "    ged_data = json.load(json_file)\n",
    "\n",
    "# g_num과 크기가 2인 리스트 모두를 추출하여 리스트로 만들기\n",
    "result_list = []\n",
    "for item in ged_data:\n",
    "    g_num = item.get('g_num', None)\n",
    "    ged_list = item.get('ged', None)\n",
    "\n",
    "    if g_num is not None and ged_list is not None:\n",
    "        for sublist in ged_list:\n",
    "            if len(sublist) == 2:\n",
    "                result_list.append([g_num, sublist[0]])\n",
    "\n",
    "# 결과를 JSON 파일로 저장\n",
    "with open(output_result_file_path, 'w') as result_file:\n",
    "    json.dump(result_list, result_file, indent=2)\n",
    "\n",
    "print(f'결과가 저장된 JSON 파일: {output_result_file_path}')\n"
   ]
  }
 ],
 "metadata": {
  "kernelspec": {
   "display_name": "Python 3 (ipykernel)",
   "language": "python",
   "name": "python3"
  },
  "language_info": {
   "codemirror_mode": {
    "name": "ipython",
    "version": 3
   },
   "file_extension": ".py",
   "mimetype": "text/x-python",
   "name": "python",
   "nbconvert_exporter": "python",
   "pygments_lexer": "ipython3",
   "version": "3.11.4"
  }
 },
 "nbformat": 4,
 "nbformat_minor": 5
}
